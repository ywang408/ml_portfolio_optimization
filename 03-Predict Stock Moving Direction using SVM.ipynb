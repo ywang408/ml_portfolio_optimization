{
 "cells": [
  {
   "cell_type": "code",
   "execution_count": 2,
   "id": "fd95bb0e",
   "metadata": {},
   "outputs": [],
   "source": [
    "import numpy as np\n",
    "import pandas as pd\n",
    "import os\n",
    "from sklearn import preprocessing\n",
    "from sklearn import svm\n",
    "from collections import Counter"
   ]
  },
  {
   "cell_type": "code",
   "execution_count": 3,
   "id": "14968511",
   "metadata": {},
   "outputs": [],
   "source": [
    "spy_indic_df = pd.read_pickle(\"./data/stocks/tech_indic/spy_indic.pkl\")\n",
    "spy = pd.read_pickle(\"./data/stocks/spy.pkl\")"
   ]
  },
  {
   "cell_type": "code",
   "execution_count": 4,
   "id": "60265c7a",
   "metadata": {},
   "outputs": [
    {
     "data": {
      "text/html": [
       "<div>\n",
       "<style scoped>\n",
       "    .dataframe tbody tr th:only-of-type {\n",
       "        vertical-align: middle;\n",
       "    }\n",
       "\n",
       "    .dataframe tbody tr th {\n",
       "        vertical-align: top;\n",
       "    }\n",
       "\n",
       "    .dataframe thead th {\n",
       "        text-align: right;\n",
       "    }\n",
       "</style>\n",
       "<table border=\"1\" class=\"dataframe\">\n",
       "  <thead>\n",
       "    <tr style=\"text-align: right;\">\n",
       "      <th></th>\n",
       "      <th>Open</th>\n",
       "      <th>High</th>\n",
       "      <th>Low</th>\n",
       "      <th>Close</th>\n",
       "      <th>Adj Close</th>\n",
       "      <th>Volume</th>\n",
       "      <th>return</th>\n",
       "    </tr>\n",
       "    <tr>\n",
       "      <th>Date</th>\n",
       "      <th></th>\n",
       "      <th></th>\n",
       "      <th></th>\n",
       "      <th></th>\n",
       "      <th></th>\n",
       "      <th></th>\n",
       "      <th></th>\n",
       "    </tr>\n",
       "  </thead>\n",
       "  <tbody>\n",
       "    <tr>\n",
       "      <th>1993-03-15</th>\n",
       "      <td>45.06250</td>\n",
       "      <td>45.31250</td>\n",
       "      <td>45.06250</td>\n",
       "      <td>45.31250</td>\n",
       "      <td>26.126841</td>\n",
       "      <td>310800</td>\n",
       "      <td>0.004840</td>\n",
       "    </tr>\n",
       "    <tr>\n",
       "      <th>1993-03-16</th>\n",
       "      <td>45.31250</td>\n",
       "      <td>45.43750</td>\n",
       "      <td>45.31250</td>\n",
       "      <td>45.31250</td>\n",
       "      <td>26.126841</td>\n",
       "      <td>30800</td>\n",
       "      <td>0.000000</td>\n",
       "    </tr>\n",
       "    <tr>\n",
       "      <th>1993-03-17</th>\n",
       "      <td>45.25000</td>\n",
       "      <td>45.25000</td>\n",
       "      <td>44.96875</td>\n",
       "      <td>45.03125</td>\n",
       "      <td>25.964684</td>\n",
       "      <td>21800</td>\n",
       "      <td>-0.006226</td>\n",
       "    </tr>\n",
       "    <tr>\n",
       "      <th>1993-03-18</th>\n",
       "      <td>45.21875</td>\n",
       "      <td>45.50000</td>\n",
       "      <td>45.21875</td>\n",
       "      <td>45.31250</td>\n",
       "      <td>26.126841</td>\n",
       "      <td>59300</td>\n",
       "      <td>0.006226</td>\n",
       "    </tr>\n",
       "    <tr>\n",
       "      <th>1993-03-19</th>\n",
       "      <td>45.28125</td>\n",
       "      <td>45.28125</td>\n",
       "      <td>45.03125</td>\n",
       "      <td>45.03125</td>\n",
       "      <td>26.087311</td>\n",
       "      <td>66900</td>\n",
       "      <td>-0.001514</td>\n",
       "    </tr>\n",
       "  </tbody>\n",
       "</table>\n",
       "</div>"
      ],
      "text/plain": [
       "                Open      High       Low     Close  Adj Close  Volume  \\\n",
       "Date                                                                    \n",
       "1993-03-15  45.06250  45.31250  45.06250  45.31250  26.126841  310800   \n",
       "1993-03-16  45.31250  45.43750  45.31250  45.31250  26.126841   30800   \n",
       "1993-03-17  45.25000  45.25000  44.96875  45.03125  25.964684   21800   \n",
       "1993-03-18  45.21875  45.50000  45.21875  45.31250  26.126841   59300   \n",
       "1993-03-19  45.28125  45.28125  45.03125  45.03125  26.087311   66900   \n",
       "\n",
       "              return  \n",
       "Date                  \n",
       "1993-03-15  0.004840  \n",
       "1993-03-16  0.000000  \n",
       "1993-03-17 -0.006226  \n",
       "1993-03-18  0.006226  \n",
       "1993-03-19 -0.001514  "
      ]
     },
     "execution_count": 4,
     "metadata": {},
     "output_type": "execute_result"
    }
   ],
   "source": [
    "spy.head()"
   ]
  },
  {
   "cell_type": "code",
   "execution_count": 5,
   "id": "5415defb",
   "metadata": {},
   "outputs": [
    {
     "data": {
      "text/html": [
       "<div>\n",
       "<style scoped>\n",
       "    .dataframe tbody tr th:only-of-type {\n",
       "        vertical-align: middle;\n",
       "    }\n",
       "\n",
       "    .dataframe tbody tr th {\n",
       "        vertical-align: top;\n",
       "    }\n",
       "\n",
       "    .dataframe thead th {\n",
       "        text-align: right;\n",
       "    }\n",
       "</style>\n",
       "<table border=\"1\" class=\"dataframe\">\n",
       "  <thead>\n",
       "    <tr style=\"text-align: right;\">\n",
       "      <th></th>\n",
       "      <th>sma5</th>\n",
       "      <th>sma30</th>\n",
       "      <th>std15</th>\n",
       "      <th>std30</th>\n",
       "      <th>H-L</th>\n",
       "      <th>C-O</th>\n",
       "      <th>ewm15</th>\n",
       "      <th>rsi</th>\n",
       "      <th>will_r</th>\n",
       "      <th>sar</th>\n",
       "      <th>adx</th>\n",
       "    </tr>\n",
       "    <tr>\n",
       "      <th>Date</th>\n",
       "      <th></th>\n",
       "      <th></th>\n",
       "      <th></th>\n",
       "      <th></th>\n",
       "      <th></th>\n",
       "      <th></th>\n",
       "      <th></th>\n",
       "      <th></th>\n",
       "      <th></th>\n",
       "      <th></th>\n",
       "      <th></th>\n",
       "    </tr>\n",
       "  </thead>\n",
       "  <tbody>\n",
       "    <tr>\n",
       "      <th>1993-03-15</th>\n",
       "      <td>45.45000</td>\n",
       "      <td>44.616667</td>\n",
       "      <td>0.619492</td>\n",
       "      <td>0.682680</td>\n",
       "      <td>0.25000</td>\n",
       "      <td>0.25000</td>\n",
       "      <td>44.811189</td>\n",
       "      <td>57.679500</td>\n",
       "      <td>-25.000000</td>\n",
       "      <td>44.681466</td>\n",
       "      <td>14.282526</td>\n",
       "    </tr>\n",
       "    <tr>\n",
       "      <th>1993-03-16</th>\n",
       "      <td>45.39375</td>\n",
       "      <td>44.652083</td>\n",
       "      <td>0.525282</td>\n",
       "      <td>0.690517</td>\n",
       "      <td>0.12500</td>\n",
       "      <td>0.00000</td>\n",
       "      <td>44.847421</td>\n",
       "      <td>57.679500</td>\n",
       "      <td>-30.909091</td>\n",
       "      <td>44.812500</td>\n",
       "      <td>13.860064</td>\n",
       "    </tr>\n",
       "    <tr>\n",
       "      <th>1993-03-17</th>\n",
       "      <td>45.26250</td>\n",
       "      <td>44.675000</td>\n",
       "      <td>0.480430</td>\n",
       "      <td>0.691339</td>\n",
       "      <td>0.28125</td>\n",
       "      <td>-0.21875</td>\n",
       "      <td>44.860578</td>\n",
       "      <td>53.033487</td>\n",
       "      <td>-49.056604</td>\n",
       "      <td>44.956875</td>\n",
       "      <td>13.080462</td>\n",
       "    </tr>\n",
       "    <tr>\n",
       "      <th>1993-03-18</th>\n",
       "      <td>45.21250</td>\n",
       "      <td>44.691667</td>\n",
       "      <td>0.439039</td>\n",
       "      <td>0.700731</td>\n",
       "      <td>0.28125</td>\n",
       "      <td>0.09375</td>\n",
       "      <td>44.892633</td>\n",
       "      <td>56.782391</td>\n",
       "      <td>-32.692308</td>\n",
       "      <td>44.968750</td>\n",
       "      <td>12.491556</td>\n",
       "    </tr>\n",
       "    <tr>\n",
       "      <th>1993-03-19</th>\n",
       "      <td>45.20000</td>\n",
       "      <td>44.692708</td>\n",
       "      <td>0.392036</td>\n",
       "      <td>0.701229</td>\n",
       "      <td>0.25000</td>\n",
       "      <td>-0.25000</td>\n",
       "      <td>44.902384</td>\n",
       "      <td>52.287696</td>\n",
       "      <td>-50.980392</td>\n",
       "      <td>44.968750</td>\n",
       "      <td>11.684755</td>\n",
       "    </tr>\n",
       "  </tbody>\n",
       "</table>\n",
       "</div>"
      ],
      "text/plain": [
       "                sma5      sma30     std15     std30      H-L      C-O  \\\n",
       "Date                                                                    \n",
       "1993-03-15  45.45000  44.616667  0.619492  0.682680  0.25000  0.25000   \n",
       "1993-03-16  45.39375  44.652083  0.525282  0.690517  0.12500  0.00000   \n",
       "1993-03-17  45.26250  44.675000  0.480430  0.691339  0.28125 -0.21875   \n",
       "1993-03-18  45.21250  44.691667  0.439039  0.700731  0.28125  0.09375   \n",
       "1993-03-19  45.20000  44.692708  0.392036  0.701229  0.25000 -0.25000   \n",
       "\n",
       "                ewm15        rsi     will_r        sar        adx  \n",
       "Date                                                               \n",
       "1993-03-15  44.811189  57.679500 -25.000000  44.681466  14.282526  \n",
       "1993-03-16  44.847421  57.679500 -30.909091  44.812500  13.860064  \n",
       "1993-03-17  44.860578  53.033487 -49.056604  44.956875  13.080462  \n",
       "1993-03-18  44.892633  56.782391 -32.692308  44.968750  12.491556  \n",
       "1993-03-19  44.902384  52.287696 -50.980392  44.968750  11.684755  "
      ]
     },
     "execution_count": 5,
     "metadata": {},
     "output_type": "execute_result"
    }
   ],
   "source": [
    "spy_indic_df.head()"
   ]
  },
  {
   "cell_type": "code",
   "execution_count": 6,
   "id": "2b7e0551",
   "metadata": {},
   "outputs": [],
   "source": [
    "y = np.where(spy_indic_df['sma30'].shift(-15) > spy_indic_df['sma30'], 1, 0)"
   ]
  },
  {
   "cell_type": "code",
   "execution_count": 7,
   "id": "ece33388",
   "metadata": {},
   "outputs": [
    {
     "data": {
      "text/plain": [
       "1173"
      ]
     },
     "execution_count": 7,
     "metadata": {},
     "output_type": "execute_result"
    }
   ],
   "source": [
    "spy_indic_df[spy_indic_df.index>'2018'].shape[0]"
   ]
  },
  {
   "cell_type": "code",
   "execution_count": 8,
   "id": "f614c582",
   "metadata": {},
   "outputs": [],
   "source": [
    "split = int(len(spy_indic_df)*0.8)\n",
    "X_train, X_test = spy_indic_df.iloc[:split,:], spy_indic_df.iloc[split:,:]\n",
    "y_train, y_test = y[:split], y[split:]"
   ]
  },
  {
   "cell_type": "code",
   "execution_count": 9,
   "id": "962e245d",
   "metadata": {},
   "outputs": [],
   "source": [
    "scaler = preprocessing.StandardScaler()\n",
    "X_train = scaler.fit_transform(X_train)\n",
    "X_test = scaler.fit_transform(X_test)"
   ]
  },
  {
   "cell_type": "code",
   "execution_count": 10,
   "id": "6851f8aa",
   "metadata": {},
   "outputs": [
    {
     "name": "stdout",
     "output_type": "stream",
     "text": [
      "accuracy: 0.8557951482479784\n"
     ]
    }
   ],
   "source": [
    "clf = svm.SVC(kernel = 'linear')\n",
    "clf.fit(X_train, y_train)\n",
    "confidence = clf.score(X_test, y_test)\n",
    "print('accuracy:',confidence)"
   ]
  },
  {
   "cell_type": "code",
   "execution_count": 11,
   "id": "87088d41",
   "metadata": {},
   "outputs": [
    {
     "name": "stdout",
     "output_type": "stream",
     "text": [
      "predicted class counts: Counter({1: 995, 0: 489})\n"
     ]
    }
   ],
   "source": [
    "predictions = clf.predict(X_test)\n",
    "print('predicted class counts:',Counter(predictions))"
   ]
  },
  {
   "cell_type": "code",
   "execution_count": 12,
   "id": "cb36b4f2",
   "metadata": {},
   "outputs": [
    {
     "data": {
      "text/plain": [
       "1484"
      ]
     },
     "execution_count": 12,
     "metadata": {},
     "output_type": "execute_result"
    }
   ],
   "source": [
    "len(predictions)"
   ]
  }
 ],
 "metadata": {
  "kernelspec": {
   "display_name": "Python 3 (ipykernel)",
   "language": "python",
   "name": "python3"
  },
  "language_info": {
   "codemirror_mode": {
    "name": "ipython",
    "version": 3
   },
   "file_extension": ".py",
   "mimetype": "text/x-python",
   "name": "python",
   "nbconvert_exporter": "python",
   "pygments_lexer": "ipython3",
   "version": "3.9.13"
  }
 },
 "nbformat": 4,
 "nbformat_minor": 5
}
